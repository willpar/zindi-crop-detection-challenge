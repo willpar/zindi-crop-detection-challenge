{
 "cells": [
  {
   "cell_type": "markdown",
   "metadata": {},
   "source": [
    "## 2. Pixel-based ensemble model"
   ]
  },
  {
   "cell_type": "markdown",
   "metadata": {},
   "source": [
    "This method makes use of individual pixel features (spectral band intensities, vegetative index and time difference values) to train an ensemble of linear (LogisticRegression) and tree-based methods (RandomForest, ExtraTrees, XGBoost)."
   ]
  },
  {
   "cell_type": "code",
   "execution_count": 1,
   "metadata": {},
   "outputs": [],
   "source": [
    "#Run this cell to automatically reload all modules (if they've been externally edited)\n",
    "%load_ext autoreload\n",
    "%autoreload 2"
   ]
  },
  {
   "cell_type": "code",
   "execution_count": 2,
   "metadata": {},
   "outputs": [],
   "source": [
    "#Run this cell to silence warnings (not recommended!)\n",
    "#Used here to silence LogReg convergence warning\n",
    "import warnings\n",
    "warnings.simplefilter('ignore')"
   ]
  },
  {
   "cell_type": "markdown",
   "metadata": {},
   "source": [
    "### Load custom modules"
   ]
  },
  {
   "cell_type": "code",
   "execution_count": 3,
   "metadata": {},
   "outputs": [],
   "source": [
    "from modules.process_data import SelectFeatures, Scale, OneHot\n",
    "from modules.run_models import ModelEnsemble, PixelToObject, make_submission\n",
    "from modules.metaclassifiers import UnweightedAverage"
   ]
  },
  {
   "cell_type": "markdown",
   "metadata": {},
   "source": [
    "### Load python modules"
   ]
  },
  {
   "cell_type": "code",
   "execution_count": 4,
   "metadata": {},
   "outputs": [],
   "source": [
    "import numpy as np\n",
    "import pandas as pd\n",
    "from sklearn.metrics import log_loss\n",
    "import pickle"
   ]
  },
  {
   "cell_type": "code",
   "execution_count": 5,
   "metadata": {},
   "outputs": [],
   "source": [
    "from sklearn.linear_model import LogisticRegression\n",
    "from sklearn.ensemble import RandomForestClassifier\n",
    "from sklearn.ensemble import ExtraTreesClassifier\n",
    "from sklearn.neighbors import KNeighborsClassifier\n",
    "from xgboost import XGBClassifier\n",
    "from sklearn.svm import SVC\n",
    "from sklearn.metrics import log_loss"
   ]
  },
  {
   "cell_type": "markdown",
   "metadata": {},
   "source": [
    "### Load processed feature datasets"
   ]
  },
  {
   "cell_type": "code",
   "execution_count": 6,
   "metadata": {},
   "outputs": [],
   "source": [
    "train_data = pd.read_pickle('extracted_data/train_data.pkl')\n",
    "expanded_pixels_train = pd.read_pickle('processed_data/train/expanded_pixels.pkl')\n",
    "\n",
    "\n",
    "test_data = pd.read_pickle('extracted_data/test_data.pkl')\n",
    "expanded_pixels_test = pd.read_pickle('processed_data/test/expanded_pixels.pkl')"
   ]
  },
  {
   "cell_type": "markdown",
   "metadata": {},
   "source": [
    "### Select features"
   ]
  },
  {
   "cell_type": "markdown",
   "metadata": {},
   "source": [
    "Select pixel values for each spectral band (B01-B12) as well as the vegetative indices (apart from ARVI) and time-difference values."
   ]
  },
  {
   "cell_type": "code",
   "execution_count": 7,
   "metadata": {},
   "outputs": [
    {
     "name": "stdout",
     "output_type": "stream",
     "text": [
      "Selected  120  columns \n",
      "Use .cols attribute to see all columns\n",
      "\n",
      "Selected  120  columns \n",
      "Use .cols attribute to see all columns\n",
      "\n"
     ]
    }
   ],
   "source": [
    "sf = SelectFeatures(drop_cols = ['Field_Id', 'Crop_Id_Ne', 'ARVI'])\n",
    "\n",
    "fit_A = sf.transform([expanded_pixels_train])\n",
    "predict_A = sf.transform([expanded_pixels_test])"
   ]
  },
  {
   "cell_type": "markdown",
   "metadata": {},
   "source": [
    "### Pre-process features"
   ]
  },
  {
   "cell_type": "markdown",
   "metadata": {},
   "source": [
    "* Fill NaN with their mean column values"
   ]
  },
  {
   "cell_type": "code",
   "execution_count": 8,
   "metadata": {
    "scrolled": false
   },
   "outputs": [],
   "source": [
    "fit_A = fit_A.fillna(fit_A.mean())\n",
    "predict_A = predict_A.fillna(predict_A.mean())"
   ]
  },
  {
   "cell_type": "code",
   "execution_count": 9,
   "metadata": {},
   "outputs": [
    {
     "data": {
      "text/html": [
       "<div>\n",
       "<style scoped>\n",
       "    .dataframe tbody tr th:only-of-type {\n",
       "        vertical-align: middle;\n",
       "    }\n",
       "\n",
       "    .dataframe tbody tr th {\n",
       "        vertical-align: top;\n",
       "    }\n",
       "\n",
       "    .dataframe thead th {\n",
       "        text-align: right;\n",
       "    }\n",
       "</style>\n",
       "<table border=\"1\" class=\"dataframe\">\n",
       "  <thead>\n",
       "    <tr style=\"text-align: right;\">\n",
       "      <th></th>\n",
       "      <th>Field_Id</th>\n",
       "      <th>0322_B02</th>\n",
       "      <th>0804_B04</th>\n",
       "      <th>0322_B03</th>\n",
       "      <th>0131_B08</th>\n",
       "      <th>0322_B04</th>\n",
       "      <th>0804_B02</th>\n",
       "      <th>0804_B03</th>\n",
       "      <th>0819_B08</th>\n",
       "      <th>0620_B08</th>\n",
       "      <th>...</th>\n",
       "      <th>B02_time_diff_SPRSUM</th>\n",
       "      <th>B02_time_diff_SUMAUT</th>\n",
       "      <th>RVI_time_diff_WINSUM</th>\n",
       "      <th>RVI_time_diff_WINSPR</th>\n",
       "      <th>RVI_time_diff_SPRSUM</th>\n",
       "      <th>RVI_time_diff_SUMAUT</th>\n",
       "      <th>B03_time_diff_WINSUM</th>\n",
       "      <th>B03_time_diff_WINSPR</th>\n",
       "      <th>B03_time_diff_SPRSUM</th>\n",
       "      <th>B03_time_diff_SUMAUT</th>\n",
       "    </tr>\n",
       "  </thead>\n",
       "  <tbody>\n",
       "    <tr>\n",
       "      <td>0</td>\n",
       "      <td>1</td>\n",
       "      <td>942.0</td>\n",
       "      <td>1026.0</td>\n",
       "      <td>949.0</td>\n",
       "      <td>3672.0</td>\n",
       "      <td>875.0</td>\n",
       "      <td>1071.0</td>\n",
       "      <td>943.0</td>\n",
       "      <td>2458.0</td>\n",
       "      <td>1897.0</td>\n",
       "      <td>...</td>\n",
       "      <td>0.128450</td>\n",
       "      <td>0.198495</td>\n",
       "      <td>-0.482028</td>\n",
       "      <td>0.013225</td>\n",
       "      <td>-0.493474</td>\n",
       "      <td>-0.034537</td>\n",
       "      <td>-0.050584</td>\n",
       "      <td>-0.076848</td>\n",
       "      <td>0.005269</td>\n",
       "      <td>0.341719</td>\n",
       "    </tr>\n",
       "    <tr>\n",
       "      <td>1</td>\n",
       "      <td>1</td>\n",
       "      <td>938.0</td>\n",
       "      <td>1066.0</td>\n",
       "      <td>936.0</td>\n",
       "      <td>3849.0</td>\n",
       "      <td>833.0</td>\n",
       "      <td>1088.0</td>\n",
       "      <td>960.0</td>\n",
       "      <td>2470.0</td>\n",
       "      <td>1921.0</td>\n",
       "      <td>...</td>\n",
       "      <td>0.164179</td>\n",
       "      <td>0.174908</td>\n",
       "      <td>-0.541511</td>\n",
       "      <td>-0.004492</td>\n",
       "      <td>-0.555929</td>\n",
       "      <td>0.000794</td>\n",
       "      <td>0.030272</td>\n",
       "      <td>-0.055499</td>\n",
       "      <td>0.057692</td>\n",
       "      <td>0.315152</td>\n",
       "    </tr>\n",
       "    <tr>\n",
       "      <td>2</td>\n",
       "      <td>1</td>\n",
       "      <td>909.0</td>\n",
       "      <td>1094.0</td>\n",
       "      <td>890.0</td>\n",
       "      <td>3995.0</td>\n",
       "      <td>770.0</td>\n",
       "      <td>1103.0</td>\n",
       "      <td>967.0</td>\n",
       "      <td>2470.0</td>\n",
       "      <td>1933.0</td>\n",
       "      <td>...</td>\n",
       "      <td>0.194719</td>\n",
       "      <td>0.195212</td>\n",
       "      <td>-0.614657</td>\n",
       "      <td>-0.022676</td>\n",
       "      <td>-0.607470</td>\n",
       "      <td>0.017715</td>\n",
       "      <td>0.112311</td>\n",
       "      <td>-0.038877</td>\n",
       "      <td>0.108989</td>\n",
       "      <td>0.325228</td>\n",
       "    </tr>\n",
       "    <tr>\n",
       "      <td>3</td>\n",
       "      <td>1</td>\n",
       "      <td>873.0</td>\n",
       "      <td>1100.0</td>\n",
       "      <td>855.0</td>\n",
       "      <td>4048.0</td>\n",
       "      <td>686.0</td>\n",
       "      <td>1119.0</td>\n",
       "      <td>954.0</td>\n",
       "      <td>2555.0</td>\n",
       "      <td>2010.0</td>\n",
       "      <td>...</td>\n",
       "      <td>0.253150</td>\n",
       "      <td>0.179159</td>\n",
       "      <td>-0.671705</td>\n",
       "      <td>-0.069641</td>\n",
       "      <td>-0.658980</td>\n",
       "      <td>0.077821</td>\n",
       "      <td>0.076503</td>\n",
       "      <td>-0.065574</td>\n",
       "      <td>0.139181</td>\n",
       "      <td>0.315195</td>\n",
       "    </tr>\n",
       "    <tr>\n",
       "      <td>4</td>\n",
       "      <td>1</td>\n",
       "      <td>842.0</td>\n",
       "      <td>1109.0</td>\n",
       "      <td>828.0</td>\n",
       "      <td>4159.0</td>\n",
       "      <td>614.0</td>\n",
       "      <td>1104.0</td>\n",
       "      <td>966.0</td>\n",
       "      <td>2563.0</td>\n",
       "      <td>1989.0</td>\n",
       "      <td>...</td>\n",
       "      <td>0.302850</td>\n",
       "      <td>0.179581</td>\n",
       "      <td>-0.704121</td>\n",
       "      <td>-0.019632</td>\n",
       "      <td>-0.707013</td>\n",
       "      <td>0.075262</td>\n",
       "      <td>0.131640</td>\n",
       "      <td>-0.043880</td>\n",
       "      <td>0.210145</td>\n",
       "      <td>0.277445</td>\n",
       "    </tr>\n",
       "  </tbody>\n",
       "</table>\n",
       "<p>5 rows × 121 columns</p>\n",
       "</div>"
      ],
      "text/plain": [
       "   Field_Id  0322_B02  0804_B04  0322_B03  0131_B08  0322_B04  0804_B02  \\\n",
       "0         1     942.0    1026.0     949.0    3672.0     875.0    1071.0   \n",
       "1         1     938.0    1066.0     936.0    3849.0     833.0    1088.0   \n",
       "2         1     909.0    1094.0     890.0    3995.0     770.0    1103.0   \n",
       "3         1     873.0    1100.0     855.0    4048.0     686.0    1119.0   \n",
       "4         1     842.0    1109.0     828.0    4159.0     614.0    1104.0   \n",
       "\n",
       "   0804_B03  0819_B08  0620_B08  ...  B02_time_diff_SPRSUM  \\\n",
       "0     943.0    2458.0    1897.0  ...              0.128450   \n",
       "1     960.0    2470.0    1921.0  ...              0.164179   \n",
       "2     967.0    2470.0    1933.0  ...              0.194719   \n",
       "3     954.0    2555.0    2010.0  ...              0.253150   \n",
       "4     966.0    2563.0    1989.0  ...              0.302850   \n",
       "\n",
       "   B02_time_diff_SUMAUT  RVI_time_diff_WINSUM  RVI_time_diff_WINSPR  \\\n",
       "0              0.198495             -0.482028              0.013225   \n",
       "1              0.174908             -0.541511             -0.004492   \n",
       "2              0.195212             -0.614657             -0.022676   \n",
       "3              0.179159             -0.671705             -0.069641   \n",
       "4              0.179581             -0.704121             -0.019632   \n",
       "\n",
       "   RVI_time_diff_SPRSUM  RVI_time_diff_SUMAUT  B03_time_diff_WINSUM  \\\n",
       "0             -0.493474             -0.034537             -0.050584   \n",
       "1             -0.555929              0.000794              0.030272   \n",
       "2             -0.607470              0.017715              0.112311   \n",
       "3             -0.658980              0.077821              0.076503   \n",
       "4             -0.707013              0.075262              0.131640   \n",
       "\n",
       "   B03_time_diff_WINSPR  B03_time_diff_SPRSUM  B03_time_diff_SUMAUT  \n",
       "0             -0.076848              0.005269              0.341719  \n",
       "1             -0.055499              0.057692              0.315152  \n",
       "2             -0.038877              0.108989              0.325228  \n",
       "3             -0.065574              0.139181              0.315195  \n",
       "4             -0.043880              0.210145              0.277445  \n",
       "\n",
       "[5 rows x 121 columns]"
      ]
     },
     "execution_count": 9,
     "metadata": {},
     "output_type": "execute_result"
    }
   ],
   "source": [
    "fit_A.head()"
   ]
  },
  {
   "cell_type": "markdown",
   "metadata": {},
   "source": [
    "### Define classifiers and metaclassifiers"
   ]
  },
  {
   "cell_type": "markdown",
   "metadata": {},
   "source": [
    "Use a combination of linear, nearest-neighbour and tree-based models both for classification and model stacking. \n",
    "Note: UnweightedAv is a custom estimator which simply takes the combines the predictions by taking their (unweighted) average. A weighted average estimator was also tested, using Nelder-Mead weight optimisation but was prone to overfitting."
   ]
  },
  {
   "cell_type": "code",
   "execution_count": 10,
   "metadata": {},
   "outputs": [],
   "source": [
    "classifiers = {\n",
    "'LogReg': LogisticRegression(solver='lbfgs', multi_class='multinomial'),\n",
    "'RandomForest': RandomForestClassifier(n_estimators = 1000),\n",
    "'ExtraTrees': ExtraTreesClassifier(n_estimators = 1000),\n",
    "'XGB': XGBClassifier(silent=False, \n",
    "                    n_estimators=1000, learning_rate=0.3, \n",
    "                    scale_pos_weight=1, colsample_bytree = 0.4, subsample = 0.9, objective='multi:softprob', \n",
    "                    eval_metric='mlogloss', reg_alpha = 0.3, max_depth=6, gamma=5)}\n",
    "\n",
    "metaclassifiers = {\n",
    "'LogReg': LogisticRegression(solver='lbfgs', multi_class='multinomial'),\n",
    "'RandomForest': RandomForestClassifier(n_estimators = 1000),\n",
    "'UnweightedAv': UnweightedAverage(n_classes=9)}"
   ]
  },
  {
   "cell_type": "markdown",
   "metadata": {},
   "source": [
    "### Fit ensemble"
   ]
  },
  {
   "cell_type": "code",
   "execution_count": null,
   "metadata": {
    "scrolled": true
   },
   "outputs": [
    {
     "name": "stdout",
     "output_type": "stream",
     "text": [
      "Fitting classifiers... \n",
      "\n",
      "Classifier                  Fold 1 Score             Fold 2 Score\n",
      "---------------------------------------------------------------------\n",
      "LogReg                          1.108                    1.241\n",
      "RandomForest                    0.784                    0.932\n"
     ]
    }
   ],
   "source": [
    "ensemble_A = ModelEnsemble(clfs=classifiers, mclfs=metaclassifiers).fit(fit_A, expanded_pixels_train)"
   ]
  },
  {
   "cell_type": "markdown",
   "metadata": {},
   "source": [
    "### Predict ensemble"
   ]
  },
  {
   "cell_type": "markdown",
   "metadata": {},
   "source": [
    "Make ensemble predictions for each pixel, and then transform them to predictions for each field (using `PixelToObject`)"
   ]
  },
  {
   "cell_type": "code",
   "execution_count": null,
   "metadata": {
    "scrolled": true
   },
   "outputs": [],
   "source": [
    "pixel_predictions = ensemble_A.predict(predict_A)"
   ]
  },
  {
   "cell_type": "code",
   "execution_count": null,
   "metadata": {},
   "outputs": [],
   "source": [
    "field_predictions = PixelToObject().transform(ensemble_A, train_data)"
   ]
  },
  {
   "cell_type": "markdown",
   "metadata": {},
   "source": [
    "### Make submissions"
   ]
  },
  {
   "cell_type": "code",
   "execution_count": null,
   "metadata": {},
   "outputs": [],
   "source": [
    "make_submission(predictions, 'Ensemble_A')"
   ]
  },
  {
   "cell_type": "code",
   "execution_count": null,
   "metadata": {},
   "outputs": [],
   "source": []
  }
 ],
 "metadata": {
  "kernelspec": {
   "display_name": "Python 3",
   "language": "python",
   "name": "python3"
  },
  "language_info": {
   "codemirror_mode": {
    "name": "ipython",
    "version": 3
   },
   "file_extension": ".py",
   "mimetype": "text/x-python",
   "name": "python",
   "nbconvert_exporter": "python",
   "pygments_lexer": "ipython3",
   "version": "3.7.3"
  }
 },
 "nbformat": 4,
 "nbformat_minor": 2
}
