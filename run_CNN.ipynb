{
 "cells": [
  {
   "cell_type": "markdown",
   "metadata": {},
   "source": [
    "## 3. CNN models"
   ]
  },
  {
   "cell_type": "markdown",
   "metadata": {},
   "source": [
    "This method trains convolutional neural networks using either individual pixel feature values (`Conv1D`) or resized field images (`Conv2D`)."
   ]
  },
  {
   "cell_type": "code",
   "execution_count": 2,
   "metadata": {},
   "outputs": [],
   "source": [
    "#Run this cell to automatically reload all modules (if they've been externally edited)\n",
    "%load_ext autoreload\n",
    "%autoreload 2"
   ]
  },
  {
   "cell_type": "code",
   "execution_count": 3,
   "metadata": {},
   "outputs": [],
   "source": [
    "#Run this cell to silence warnings (not recommended!)\n",
    "#Used here to silence tensorflow deprecation warnings\n",
    "import warnings\n",
    "warnings.simplefilter('ignore')"
   ]
  },
  {
   "cell_type": "markdown",
   "metadata": {},
   "source": [
    "### Load custom modules"
   ]
  },
  {
   "cell_type": "code",
   "execution_count": 17,
   "metadata": {},
   "outputs": [],
   "source": [
    "from modules.process_data import SelectFeatures, Scale, OneHot\n",
    "from modules.run_models import ModelEnsemble, make_submission\n",
    "from modules.metaclassifiers import UnweightedAverage"
   ]
  },
  {
   "cell_type": "markdown",
   "metadata": {},
   "source": [
    "### Load python modules"
   ]
  },
  {
   "cell_type": "code",
   "execution_count": 8,
   "metadata": {},
   "outputs": [],
   "source": [
    "import numpy as np\n",
    "import pandas as pd\n",
    "from sklearn.metrics import log_loss\n",
    "import pickle"
   ]
  },
  {
   "cell_type": "code",
   "execution_count": 4,
   "metadata": {
    "scrolled": true
   },
   "outputs": [],
   "source": [
    "from tensorflow import keras\n",
    "from sklearn.metrics import log_loss"
   ]
  },
  {
   "cell_type": "markdown",
   "metadata": {},
   "source": [
    "### Load processed feature datasets"
   ]
  },
  {
   "cell_type": "code",
   "execution_count": 9,
   "metadata": {},
   "outputs": [],
   "source": [
    "train_data = pd.read_pickle('extracted_data/train_data.pkl')\n",
    "expanded_pixels_train = pd.read_pickle('processed_data/train/expanded_pixels.pkl')\n",
    "resized_images_train = np.load('processed_data/train/resized_images.npy')\n",
    "\n",
    "\n",
    "test_data = pd.read_pickle('extracted_data/test_data.pkl')\n",
    "expanded_pixels_test = pd.read_pickle('processed_data/test/expanded_pixels.pkl')\n",
    "resized_images_test = np.load('processed_data/test/resized_images.npy')"
   ]
  },
  {
   "cell_type": "markdown",
   "metadata": {},
   "source": [
    "### Split fields into train and validation sets"
   ]
  },
  {
   "cell_type": "markdown",
   "metadata": {},
   "source": [
    "Note: This is not required for the ensemble models as this is performed automatically in the two-fold classifier fitting method of `ModelEnsemble`."
   ]
  },
  {
   "cell_type": "code",
   "execution_count": 10,
   "metadata": {},
   "outputs": [],
   "source": [
    "def train_test_split(data, random_state = 42):\n",
    "    \n",
    "    fields = data['Field_Id'].unique().tolist()\n",
    "    \n",
    "    from sklearn.model_selection import train_test_split\n",
    "    \n",
    "    train_fields, test_fields = train_test_split(fields, random_state = random_state)\n",
    "\n",
    "    return train_fields, test_fields"
   ]
  },
  {
   "cell_type": "code",
   "execution_count": 11,
   "metadata": {},
   "outputs": [],
   "source": [
    "train_fields, test_fields = train_test_split(train_data)"
   ]
  },
  {
   "cell_type": "markdown",
   "metadata": {},
   "source": [
    "## Conv1D"
   ]
  },
  {
   "cell_type": "markdown",
   "metadata": {},
   "source": [
    "### Select features"
   ]
  },
  {
   "cell_type": "markdown",
   "metadata": {},
   "source": [
    "Select pixel values for each spectral band (B01-B12) as well as the NDVI vegetative index."
   ]
  },
  {
   "cell_type": "code",
   "execution_count": 12,
   "metadata": {},
   "outputs": [
    {
     "name": "stdout",
     "output_type": "stream",
     "text": [
      "Selected  55  columns \n",
      "Use .cols attribute to see all columns\n",
      "\n",
      "Selected  55  columns \n",
      "Use .cols attribute to see all columns\n",
      "\n"
     ]
    }
   ],
   "source": [
    "sf = SelectFeatures(keep_cols = ['NDVI', 'B'],\n",
    "                    drop_cols = ['Field_Id', 'Crop_Id_Ne', 'ARVI', 'WIN', 'SPR', 'SUM', 'AUT'])\n",
    "\n",
    "fit_A = sf.transform([expanded_pixels_train])\n",
    "predict_A = sf.transform([expanded_pixels_test])"
   ]
  },
  {
   "cell_type": "markdown",
   "metadata": {},
   "source": [
    "### Pre-process features"
   ]
  },
  {
   "cell_type": "markdown",
   "metadata": {},
   "source": [
    "* Min-Max scale all numerical features"
   ]
  },
  {
   "cell_type": "code",
   "execution_count": 22,
   "metadata": {
    "scrolled": true
   },
   "outputs": [
    {
     "name": "stdout",
     "output_type": "stream",
     "text": [
      "Scaling  55  columns \n",
      "Use .cols attribute to see all columns\n",
      "\n"
     ]
    }
   ],
   "source": [
    "sc = Scale(keep_cols=['B', 'NDVI']).fit(fit_A)\n",
    "\n",
    "fit_A = sc.transform(fit_A)"
   ]
  },
  {
   "cell_type": "markdown",
   "metadata": {},
   "source": [
    "* Fill NaN with their mean column values"
   ]
  },
  {
   "cell_type": "code",
   "execution_count": 30,
   "metadata": {},
   "outputs": [],
   "source": [
    "fit_A = fit_A.fillna(fit_A.mean())"
   ]
  },
  {
   "cell_type": "code",
   "execution_count": 23,
   "metadata": {},
   "outputs": [
    {
     "data": {
      "text/html": [
       "<div>\n",
       "<style scoped>\n",
       "    .dataframe tbody tr th:only-of-type {\n",
       "        vertical-align: middle;\n",
       "    }\n",
       "\n",
       "    .dataframe tbody tr th {\n",
       "        vertical-align: top;\n",
       "    }\n",
       "\n",
       "    .dataframe thead th {\n",
       "        text-align: right;\n",
       "    }\n",
       "</style>\n",
       "<table border=\"1\" class=\"dataframe\">\n",
       "  <thead>\n",
       "    <tr style=\"text-align: right;\">\n",
       "      <th></th>\n",
       "      <th>Field_Id</th>\n",
       "      <th>0210_NDVI</th>\n",
       "      <th>0312_NDVI</th>\n",
       "      <th>0620_NDVI</th>\n",
       "      <th>0715_NDVI</th>\n",
       "      <th>0804_NDVI</th>\n",
       "      <th>0101_NDVI</th>\n",
       "      <th>0322_NDVI</th>\n",
       "      <th>0819_NDVI</th>\n",
       "      <th>0131_NDVI</th>\n",
       "      <th>...</th>\n",
       "      <th>0715_B04</th>\n",
       "      <th>0531_B08</th>\n",
       "      <th>0131_B03</th>\n",
       "      <th>0322_B08</th>\n",
       "      <th>0819_B04</th>\n",
       "      <th>0131_B02</th>\n",
       "      <th>0804_B08</th>\n",
       "      <th>0819_B03</th>\n",
       "      <th>0819_B02</th>\n",
       "      <th>0131_B04</th>\n",
       "    </tr>\n",
       "  </thead>\n",
       "  <tbody>\n",
       "    <tr>\n",
       "      <td>0</td>\n",
       "      <td>1</td>\n",
       "      <td>0.841744</td>\n",
       "      <td>0.589831</td>\n",
       "      <td>0.324161</td>\n",
       "      <td>0.469348</td>\n",
       "      <td>0.331503</td>\n",
       "      <td>0.628437</td>\n",
       "      <td>0.597858</td>\n",
       "      <td>0.427764</td>\n",
       "      <td>0.731256</td>\n",
       "      <td>...</td>\n",
       "      <td>0.259259</td>\n",
       "      <td>0.285886</td>\n",
       "      <td>0.201850</td>\n",
       "      <td>0.424765</td>\n",
       "      <td>0.367452</td>\n",
       "      <td>0.126292</td>\n",
       "      <td>0.219727</td>\n",
       "      <td>0.316017</td>\n",
       "      <td>0.288549</td>\n",
       "      <td>0.148074</td>\n",
       "    </tr>\n",
       "    <tr>\n",
       "      <td>1</td>\n",
       "      <td>1</td>\n",
       "      <td>0.862234</td>\n",
       "      <td>0.575354</td>\n",
       "      <td>0.301155</td>\n",
       "      <td>0.450977</td>\n",
       "      <td>0.317423</td>\n",
       "      <td>0.674327</td>\n",
       "      <td>0.637323</td>\n",
       "      <td>0.424661</td>\n",
       "      <td>0.784243</td>\n",
       "      <td>...</td>\n",
       "      <td>0.275421</td>\n",
       "      <td>0.288689</td>\n",
       "      <td>0.181175</td>\n",
       "      <td>0.450739</td>\n",
       "      <td>0.373264</td>\n",
       "      <td>0.117681</td>\n",
       "      <td>0.223374</td>\n",
       "      <td>0.326599</td>\n",
       "      <td>0.293651</td>\n",
       "      <td>0.121273</td>\n",
       "    </tr>\n",
       "    <tr>\n",
       "      <td>2</td>\n",
       "      <td>1</td>\n",
       "      <td>0.895746</td>\n",
       "      <td>0.622939</td>\n",
       "      <td>0.302289</td>\n",
       "      <td>0.444324</td>\n",
       "      <td>0.300892</td>\n",
       "      <td>0.732084</td>\n",
       "      <td>0.689770</td>\n",
       "      <td>0.433262</td>\n",
       "      <td>0.826746</td>\n",
       "      <td>...</td>\n",
       "      <td>0.276431</td>\n",
       "      <td>0.299299</td>\n",
       "      <td>0.156148</td>\n",
       "      <td>0.482759</td>\n",
       "      <td>0.363901</td>\n",
       "      <td>0.088404</td>\n",
       "      <td>0.221838</td>\n",
       "      <td>0.329485</td>\n",
       "      <td>0.302154</td>\n",
       "      <td>0.098827</td>\n",
       "    </tr>\n",
       "    <tr>\n",
       "      <td>3</td>\n",
       "      <td>1</td>\n",
       "      <td>0.915159</td>\n",
       "      <td>0.702329</td>\n",
       "      <td>0.302855</td>\n",
       "      <td>0.468479</td>\n",
       "      <td>0.344428</td>\n",
       "      <td>0.801237</td>\n",
       "      <td>0.744408</td>\n",
       "      <td>0.459658</td>\n",
       "      <td>0.844468</td>\n",
       "      <td>...</td>\n",
       "      <td>0.275421</td>\n",
       "      <td>0.302703</td>\n",
       "      <td>0.135473</td>\n",
       "      <td>0.501343</td>\n",
       "      <td>0.351954</td>\n",
       "      <td>0.083238</td>\n",
       "      <td>0.250048</td>\n",
       "      <td>0.316498</td>\n",
       "      <td>0.297619</td>\n",
       "      <td>0.088777</td>\n",
       "    </tr>\n",
       "    <tr>\n",
       "      <td>4</td>\n",
       "      <td>1</td>\n",
       "      <td>0.929408</td>\n",
       "      <td>0.769369</td>\n",
       "      <td>0.303651</td>\n",
       "      <td>0.466787</td>\n",
       "      <td>0.355469</td>\n",
       "      <td>0.834417</td>\n",
       "      <td>0.798120</td>\n",
       "      <td>0.459253</td>\n",
       "      <td>0.875937</td>\n",
       "      <td>...</td>\n",
       "      <td>0.286195</td>\n",
       "      <td>0.308108</td>\n",
       "      <td>0.139826</td>\n",
       "      <td>0.532468</td>\n",
       "      <td>0.353891</td>\n",
       "      <td>0.078071</td>\n",
       "      <td>0.260027</td>\n",
       "      <td>0.316017</td>\n",
       "      <td>0.299887</td>\n",
       "      <td>0.071357</td>\n",
       "    </tr>\n",
       "  </tbody>\n",
       "</table>\n",
       "<p>5 rows × 56 columns</p>\n",
       "</div>"
      ],
      "text/plain": [
       "   Field_Id  0210_NDVI  0312_NDVI  0620_NDVI  0715_NDVI  0804_NDVI  0101_NDVI  \\\n",
       "0         1   0.841744   0.589831   0.324161   0.469348   0.331503   0.628437   \n",
       "1         1   0.862234   0.575354   0.301155   0.450977   0.317423   0.674327   \n",
       "2         1   0.895746   0.622939   0.302289   0.444324   0.300892   0.732084   \n",
       "3         1   0.915159   0.702329   0.302855   0.468479   0.344428   0.801237   \n",
       "4         1   0.929408   0.769369   0.303651   0.466787   0.355469   0.834417   \n",
       "\n",
       "   0322_NDVI  0819_NDVI  0131_NDVI  ...  0715_B04  0531_B08  0131_B03  \\\n",
       "0   0.597858   0.427764   0.731256  ...  0.259259  0.285886  0.201850   \n",
       "1   0.637323   0.424661   0.784243  ...  0.275421  0.288689  0.181175   \n",
       "2   0.689770   0.433262   0.826746  ...  0.276431  0.299299  0.156148   \n",
       "3   0.744408   0.459658   0.844468  ...  0.275421  0.302703  0.135473   \n",
       "4   0.798120   0.459253   0.875937  ...  0.286195  0.308108  0.139826   \n",
       "\n",
       "   0322_B08  0819_B04  0131_B02  0804_B08  0819_B03  0819_B02  0131_B04  \n",
       "0  0.424765  0.367452  0.126292  0.219727  0.316017  0.288549  0.148074  \n",
       "1  0.450739  0.373264  0.117681  0.223374  0.326599  0.293651  0.121273  \n",
       "2  0.482759  0.363901  0.088404  0.221838  0.329485  0.302154  0.098827  \n",
       "3  0.501343  0.351954  0.083238  0.250048  0.316498  0.297619  0.088777  \n",
       "4  0.532468  0.353891  0.078071  0.260027  0.316017  0.299887  0.071357  \n",
       "\n",
       "[5 rows x 56 columns]"
      ]
     },
     "execution_count": 23,
     "metadata": {},
     "output_type": "execute_result"
    }
   ],
   "source": [
    "fit_A.head()"
   ]
  },
  {
   "cell_type": "markdown",
   "metadata": {},
   "source": [
    "### Split data and reshape into 1D arrays"
   ]
  },
  {
   "cell_type": "code",
   "execution_count": 108,
   "metadata": {},
   "outputs": [],
   "source": [
    "#Split 'fit' data into train and validation sets\n",
    "X_train = fit_A[fit_A['Field_Id'].isin(train_fields)].drop('Field_Id', axis = 1)\n",
    "X_test = fit_A[fit_A['Field_Id'].isin(test_fields)].drop('Field_Id', axis = 1)\n",
    "\n",
    "y_train = expanded_pixels_train['Crop_Id_Ne'][expanded_pixels_train['Field_Id'].isin(train_fields)]\n",
    "y_test = expanded_pixels_train['Crop_Id_Ne'][expanded_pixels_train['Field_Id'].isin(test_fields)]\n",
    "\n",
    "y_train = pd.get_dummies(y_train).values\n",
    "y_test = pd.get_dummies(y_test).values"
   ]
  },
  {
   "cell_type": "code",
   "execution_count": 109,
   "metadata": {},
   "outputs": [],
   "source": [
    "#Sort columns into date order\n",
    "X_train = X_train[X_train.columns.sort_values()]\n",
    "X_test = X_test[X_test.columns.sort_values()]"
   ]
  },
  {
   "cell_type": "code",
   "execution_count": 110,
   "metadata": {},
   "outputs": [],
   "source": [
    "#Reshape into n_samples*55x1 pixel arrays\n",
    "X_train_res = np.array([np.reshape(np.array(x), (55,1)) for x in X_train.values.tolist()])\n",
    "X_test_res = np.array([np.reshape(np.array(x), (55,1)) for x in X_test.values.tolist()])"
   ]
  },
  {
   "cell_type": "code",
   "execution_count": 111,
   "metadata": {},
   "outputs": [
    {
     "data": {
      "text/plain": [
       "((362290, 55, 1), (114420, 55, 1), (362290, 9), (114420, 9))"
      ]
     },
     "execution_count": 111,
     "metadata": {},
     "output_type": "execute_result"
    }
   ],
   "source": [
    "X_train_res.shape, X_test_res.shape, y_train.shape, y_test.shape"
   ]
  },
  {
   "cell_type": "markdown",
   "metadata": {},
   "source": [
    "### Build and run CNN"
   ]
  },
  {
   "cell_type": "code",
   "execution_count": 117,
   "metadata": {},
   "outputs": [],
   "source": [
    "learning_rate = 0.001\n",
    "epochs = 20\n",
    "batch_size = 50000"
   ]
  },
  {
   "cell_type": "code",
   "execution_count": 118,
   "metadata": {},
   "outputs": [],
   "source": [
    "model = keras.models.Sequential()\n",
    "\n",
    "model.add(keras.layers.Conv1D(32, \n",
    "                            kernel_size=(6),\n",
    "                            activation='relu',\n",
    "                            strides = 1))\n",
    "\n",
    "model.add(keras.layers.MaxPooling1D(pool_size=(2)))\n",
    "\n",
    "model.add(keras.layers.Conv1D(64, \n",
    "                            kernel_size=(2),\n",
    "                            activation='relu'))\n",
    "\n",
    "model.add(keras.layers.MaxPooling1D(pool_size=(2)))\n",
    "\n",
    "\n",
    "#model.add(keras.layers.Dropout(0.25))\n",
    "\n",
    "model.add(keras.layers.Flatten())\n",
    "\n",
    "model.add(keras.layers.Dense(1000, activation='relu'))\n",
    "\n",
    "model.add(keras.layers.Dense(512, activation='relu'))\n",
    "\n",
    "model.add(keras.layers.Dense(128, activation='relu'))\n",
    "          \n",
    "#model.add(keras.layers.Dropout(0.5))\n",
    "\n",
    "model.add(keras.layers.Dense(9, activation='softmax'))"
   ]
  },
  {
   "cell_type": "code",
   "execution_count": 119,
   "metadata": {},
   "outputs": [],
   "source": [
    "model.compile(loss='categorical_crossentropy',\n",
    "              optimizer=keras.optimizers.Adam(lr=learning_rate),\n",
    "              metrics=['accuracy'])"
   ]
  },
  {
   "cell_type": "code",
   "execution_count": 115,
   "metadata": {
    "scrolled": true
   },
   "outputs": [
    {
     "name": "stdout",
     "output_type": "stream",
     "text": [
      "Train on 362290 samples, validate on 114420 samples\n",
      "Epoch 1/100\n",
      "362290/362290 [==============================] - 97s 268us/sample - loss: 1.9514 - acc: 0.4017 - val_loss: 1.6704 - val_acc: 0.4489\n",
      "Epoch 2/100\n",
      "362290/362290 [==============================] - 72s 198us/sample - loss: 1.6087 - acc: 0.4801 - val_loss: 1.5238 - val_acc: 0.4536\n",
      "Epoch 3/100\n",
      "362290/362290 [==============================] - 69s 189us/sample - loss: 1.4806 - acc: 0.5026 - val_loss: 1.3947 - val_acc: 0.5175\n",
      "Epoch 4/100\n",
      "362290/362290 [==============================] - 69s 191us/sample - loss: 1.3662 - acc: 0.5538 - val_loss: 1.2727 - val_acc: 0.6197\n",
      "Epoch 5/100\n",
      "362290/362290 [==============================] - 71s 195us/sample - loss: 1.2687 - acc: 0.5891 - val_loss: 1.2116 - val_acc: 0.6316\n",
      "Epoch 6/100\n",
      "362290/362290 [==============================] - 69s 189us/sample - loss: 1.2089 - acc: 0.6008 - val_loss: 1.1174 - val_acc: 0.6529\n",
      "Epoch 7/100\n",
      "362290/362290 [==============================] - 74s 205us/sample - loss: 1.1372 - acc: 0.6216 - val_loss: 1.0812 - val_acc: 0.6618\n",
      "Epoch 8/100\n",
      "362290/362290 [==============================] - 71s 196us/sample - loss: 1.0782 - acc: 0.6383 - val_loss: 1.0195 - val_acc: 0.6756\n",
      "Epoch 9/100\n",
      "362290/362290 [==============================] - 71s 196us/sample - loss: 1.0230 - acc: 0.6616 - val_loss: 0.9807 - val_acc: 0.6958\n",
      "Epoch 10/100\n",
      "362290/362290 [==============================] - 70s 194us/sample - loss: 0.9928 - acc: 0.6777 - val_loss: 0.9450 - val_acc: 0.7125\n",
      "Epoch 11/100\n",
      "362290/362290 [==============================] - 68s 187us/sample - loss: 0.9415 - acc: 0.6995 - val_loss: 0.9180 - val_acc: 0.7232\n",
      "Epoch 12/100\n",
      "362290/362290 [==============================] - 73s 202us/sample - loss: 0.8985 - acc: 0.7154 - val_loss: 0.8882 - val_acc: 0.7374\n",
      "Epoch 13/100\n",
      "362290/362290 [==============================] - 69s 192us/sample - loss: 0.8642 - acc: 0.7287 - val_loss: 0.8821 - val_acc: 0.7370\n",
      "Epoch 14/100\n",
      "362290/362290 [==============================] - 68s 187us/sample - loss: 0.8360 - acc: 0.7364 - val_loss: 0.8652 - val_acc: 0.7450\n",
      "Epoch 15/100\n",
      "362290/362290 [==============================] - 68s 188us/sample - loss: 0.8072 - acc: 0.7441 - val_loss: 0.8498 - val_acc: 0.7493\n",
      "Epoch 16/100\n",
      "362290/362290 [==============================] - 68s 188us/sample - loss: 0.7882 - acc: 0.7484 - val_loss: 0.8470 - val_acc: 0.7559\n",
      "Epoch 17/100\n",
      "362290/362290 [==============================] - 71s 197us/sample - loss: 0.7683 - acc: 0.7536 - val_loss: 0.8372 - val_acc: 0.7554\n",
      "Epoch 18/100\n",
      "362290/362290 [==============================] - 70s 192us/sample - loss: 0.7420 - acc: 0.7620 - val_loss: 0.8230 - val_acc: 0.7614\n",
      "Epoch 19/100\n",
      "362290/362290 [==============================] - 67s 185us/sample - loss: 0.7250 - acc: 0.7676 - val_loss: 0.8418 - val_acc: 0.7501\n",
      "Epoch 20/100\n",
      "362290/362290 [==============================] - 69s 192us/sample - loss: 0.7060 - acc: 0.7732 - val_loss: 0.8268 - val_acc: 0.7577\n",
      "Epoch 21/100\n",
      "362290/362290 [==============================] - 68s 188us/sample - loss: 0.6832 - acc: 0.7806 - val_loss: 0.8082 - val_acc: 0.7643\n",
      "Epoch 22/100\n",
      "362290/362290 [==============================] - 69s 191us/sample - loss: 0.6678 - acc: 0.7857 - val_loss: 0.8028 - val_acc: 0.7678\n",
      "Epoch 23/100\n",
      "362290/362290 [==============================] - 74s 206us/sample - loss: 0.6636 - acc: 0.7872 - val_loss: 0.8047 - val_acc: 0.7643\n",
      "Epoch 24/100\n",
      "362290/362290 [==============================] - 70s 193us/sample - loss: 0.6408 - acc: 0.7936 - val_loss: 0.7879 - val_acc: 0.7729\n",
      "Epoch 25/100\n",
      "362290/362290 [==============================] - 71s 195us/sample - loss: 0.6317 - acc: 0.7970 - val_loss: 0.8132 - val_acc: 0.7633\n",
      "Epoch 26/100\n",
      "362290/362290 [==============================] - 71s 195us/sample - loss: 0.6195 - acc: 0.8000 - val_loss: 0.8029 - val_acc: 0.7617\n",
      "Epoch 27/100\n",
      "362290/362290 [==============================] - 69s 191us/sample - loss: 0.6032 - acc: 0.8055 - val_loss: 0.7862 - val_acc: 0.7733\n",
      "Epoch 28/100\n",
      "362290/362290 [==============================] - 69s 191us/sample - loss: 0.5873 - acc: 0.8108 - val_loss: 0.7825 - val_acc: 0.7744\n",
      "Epoch 29/100\n",
      "362290/362290 [==============================] - 69s 191us/sample - loss: 0.5786 - acc: 0.8131 - val_loss: 0.7925 - val_acc: 0.7695\n",
      "Epoch 30/100\n",
      "362290/362290 [==============================] - 70s 193us/sample - loss: 0.5777 - acc: 0.8133 - val_loss: 0.7841 - val_acc: 0.7764\n",
      "Epoch 31/100\n",
      "362290/362290 [==============================] - 69s 190us/sample - loss: 0.5670 - acc: 0.8164 - val_loss: 0.7787 - val_acc: 0.7759\n",
      "Epoch 32/100\n",
      "362290/362290 [==============================] - 68s 189us/sample - loss: 0.5503 - acc: 0.8226 - val_loss: 0.7775 - val_acc: 0.7757\n",
      "Epoch 33/100\n",
      "362290/362290 [==============================] - 68s 189us/sample - loss: 0.5424 - acc: 0.8252 - val_loss: 0.7889 - val_acc: 0.7751\n",
      "Epoch 34/100\n",
      "362290/362290 [==============================] - 69s 190us/sample - loss: 0.5334 - acc: 0.8281 - val_loss: 0.7751 - val_acc: 0.7826\n",
      "Epoch 35/100\n",
      "362290/362290 [==============================] - 68s 188us/sample - loss: 0.5258 - acc: 0.8304 - val_loss: 0.7673 - val_acc: 0.7839\n",
      "Epoch 36/100\n",
      "362290/362290 [==============================] - 68s 188us/sample - loss: 0.5152 - acc: 0.8336 - val_loss: 0.7765 - val_acc: 0.7824\n",
      "Epoch 37/100\n",
      "362290/362290 [==============================] - 77s 212us/sample - loss: 0.5046 - acc: 0.8377 - val_loss: 0.7777 - val_acc: 0.7838\n",
      "Epoch 38/100\n",
      "362290/362290 [==============================] - 68s 189us/sample - loss: 0.5134 - acc: 0.8338 - val_loss: 0.8194 - val_acc: 0.7750\n",
      "Epoch 39/100\n",
      "362290/362290 [==============================] - 70s 193us/sample - loss: 0.5334 - acc: 0.8266 - val_loss: 0.7792 - val_acc: 0.7805\n",
      "Epoch 40/100\n",
      "362290/362290 [==============================] - 69s 190us/sample - loss: 0.5026 - acc: 0.8376 - val_loss: 0.7826 - val_acc: 0.7718\n",
      "Epoch 41/100\n",
      "362290/362290 [==============================] - 68s 187us/sample - loss: 0.4928 - acc: 0.8413 - val_loss: 0.7754 - val_acc: 0.7838\n",
      "Epoch 42/100\n",
      "362290/362290 [==============================] - 69s 190us/sample - loss: 0.4766 - acc: 0.8469 - val_loss: 0.7693 - val_acc: 0.7901\n",
      "Epoch 43/100\n",
      "362290/362290 [==============================] - 69s 190us/sample - loss: 0.4679 - acc: 0.8495 - val_loss: 0.7621 - val_acc: 0.7917\n",
      "Epoch 44/100\n",
      "362290/362290 [==============================] - 68s 188us/sample - loss: 0.4591 - acc: 0.8521 - val_loss: 0.7642 - val_acc: 0.7910\n",
      "Epoch 45/100\n",
      "362290/362290 [==============================] - 70s 194us/sample - loss: 0.4531 - acc: 0.8543 - val_loss: 0.7673 - val_acc: 0.7906\n",
      "Epoch 46/100\n",
      "362290/362290 [==============================] - 70s 192us/sample - loss: 0.4443 - acc: 0.8572 - val_loss: 0.7635 - val_acc: 0.7925\n",
      "Epoch 47/100\n",
      "362290/362290 [==============================] - 67s 186us/sample - loss: 0.4391 - acc: 0.8590 - val_loss: 0.7742 - val_acc: 0.7907\n",
      "Epoch 48/100\n",
      "362290/362290 [==============================] - 76s 209us/sample - loss: 0.4300 - acc: 0.8619 - val_loss: 0.7658 - val_acc: 0.7928\n",
      "Epoch 49/100\n",
      "362290/362290 [==============================] - 67s 185us/sample - loss: 0.4437 - acc: 0.8568 - val_loss: 1.2489 - val_acc: 0.6807\n",
      "Epoch 50/100\n",
      "362290/362290 [==============================] - 73s 200us/sample - loss: 0.5778 - acc: 0.8160 - val_loss: 0.8176 - val_acc: 0.7697\n",
      "Epoch 51/100\n",
      "362290/362290 [==============================] - 71s 195us/sample - loss: 0.4662 - acc: 0.8487 - val_loss: 0.7738 - val_acc: 0.7867\n",
      "Epoch 52/100\n",
      "362290/362290 [==============================] - 70s 192us/sample - loss: 0.4375 - acc: 0.8598 - val_loss: 0.7602 - val_acc: 0.7911\n",
      "Epoch 53/100\n",
      "362290/362290 [==============================] - 68s 188us/sample - loss: 0.4185 - acc: 0.8666 - val_loss: 0.7803 - val_acc: 0.7906\n",
      "Epoch 54/100\n",
      "362290/362290 [==============================] - 70s 193us/sample - loss: 0.4061 - acc: 0.8708 - val_loss: 0.7896 - val_acc: 0.7900\n",
      "Epoch 55/100\n",
      "362290/362290 [==============================] - 68s 188us/sample - loss: 0.3979 - acc: 0.8740 - val_loss: 0.7826 - val_acc: 0.7924\n",
      "Epoch 56/100\n",
      "362290/362290 [==============================] - 69s 192us/sample - loss: 0.3913 - acc: 0.8761 - val_loss: 0.7866 - val_acc: 0.7887\n",
      "Epoch 57/100\n",
      "362290/362290 [==============================] - 69s 190us/sample - loss: 0.3845 - acc: 0.8785 - val_loss: 0.7871 - val_acc: 0.7902\n",
      "Epoch 58/100\n",
      "362290/362290 [==============================] - 72s 200us/sample - loss: 0.3789 - acc: 0.8803 - val_loss: 0.7895 - val_acc: 0.7930\n",
      "Epoch 59/100\n",
      "362290/362290 [==============================] - 72s 198us/sample - loss: 0.3744 - acc: 0.8818 - val_loss: 0.7909 - val_acc: 0.7899\n",
      "Epoch 60/100\n",
      "362290/362290 [==============================] - 68s 187us/sample - loss: 0.3679 - acc: 0.8835 - val_loss: 0.7966 - val_acc: 0.7865\n",
      "Epoch 61/100\n",
      "362290/362290 [==============================] - 58s 161us/sample - loss: 0.3621 - acc: 0.8854 - val_loss: 0.8006 - val_acc: 0.7869\n",
      "Epoch 62/100\n",
      "362290/362290 [==============================] - 56s 154us/sample - loss: 0.3614 - acc: 0.8852 - val_loss: 0.8112 - val_acc: 0.7872\n",
      "Epoch 63/100\n",
      "362290/362290 [==============================] - 56s 154us/sample - loss: 0.3527 - acc: 0.8885 - val_loss: 0.7946 - val_acc: 0.7935\n",
      "Epoch 64/100\n",
      "362290/362290 [==============================] - 56s 155us/sample - loss: 0.3465 - acc: 0.8903 - val_loss: 0.8012 - val_acc: 0.7936\n",
      "Epoch 65/100\n",
      "362290/362290 [==============================] - 56s 153us/sample - loss: 0.3492 - acc: 0.8896 - val_loss: 0.8390 - val_acc: 0.7718\n",
      "Epoch 66/100\n",
      "362290/362290 [==============================] - 56s 154us/sample - loss: 0.3809 - acc: 0.8790 - val_loss: 0.9169 - val_acc: 0.7752\n",
      "Epoch 67/100\n",
      "362290/362290 [==============================] - 56s 154us/sample - loss: 0.3946 - acc: 0.8716 - val_loss: 0.7782 - val_acc: 0.7955\n",
      "Epoch 68/100\n",
      "362290/362290 [==============================] - 56s 153us/sample - loss: 0.3542 - acc: 0.8878 - val_loss: 0.7839 - val_acc: 0.7941\n",
      "Epoch 69/100\n",
      "362290/362290 [==============================] - 56s 154us/sample - loss: 0.3377 - acc: 0.8933 - val_loss: 0.7977 - val_acc: 0.7938\n",
      "Epoch 70/100\n",
      "362290/362290 [==============================] - 56s 155us/sample - loss: 0.3250 - acc: 0.8976 - val_loss: 0.8240 - val_acc: 0.7863\n",
      "Epoch 71/100\n",
      "362290/362290 [==============================] - 56s 155us/sample - loss: 0.3172 - acc: 0.9001 - val_loss: 0.8198 - val_acc: 0.7883\n",
      "Epoch 72/100\n",
      "362290/362290 [==============================] - 56s 155us/sample - loss: 0.3108 - acc: 0.9023 - val_loss: 0.8267 - val_acc: 0.7876\n",
      "Epoch 73/100\n",
      "362290/362290 [==============================] - 56s 154us/sample - loss: 0.3058 - acc: 0.9042 - val_loss: 0.8333 - val_acc: 0.7882\n",
      "Epoch 74/100\n",
      "362290/362290 [==============================] - 56s 154us/sample - loss: 0.3018 - acc: 0.9052 - val_loss: 0.8343 - val_acc: 0.7920\n",
      "Epoch 75/100\n",
      "362290/362290 [==============================] - 56s 155us/sample - loss: 0.2974 - acc: 0.9064 - val_loss: 0.8398 - val_acc: 0.7907\n",
      "Epoch 76/100\n",
      "362290/362290 [==============================] - 56s 154us/sample - loss: 0.2942 - acc: 0.9072 - val_loss: 0.8445 - val_acc: 0.7921\n",
      "Epoch 77/100\n",
      "362290/362290 [==============================] - 56s 155us/sample - loss: 0.2879 - acc: 0.9096 - val_loss: 0.8472 - val_acc: 0.7908\n",
      "Epoch 78/100\n",
      "362290/362290 [==============================] - 56s 155us/sample - loss: 0.2839 - acc: 0.9109 - val_loss: 0.8584 - val_acc: 0.7883\n",
      "Epoch 79/100\n",
      "362290/362290 [==============================] - 57s 158us/sample - loss: 0.2797 - acc: 0.9124 - val_loss: 0.8917 - val_acc: 0.7881\n",
      "Epoch 80/100\n",
      "362290/362290 [==============================] - 56s 154us/sample - loss: 0.2814 - acc: 0.9114 - val_loss: 0.8700 - val_acc: 0.7884\n",
      "Epoch 81/100\n",
      "362290/362290 [==============================] - 56s 155us/sample - loss: 0.2777 - acc: 0.9125 - val_loss: 0.8767 - val_acc: 0.7861\n",
      "Epoch 82/100\n",
      "362290/362290 [==============================] - 56s 155us/sample - loss: 0.2779 - acc: 0.9120 - val_loss: 0.8819 - val_acc: 0.7811\n",
      "Epoch 83/100\n",
      "362290/362290 [==============================] - 56s 154us/sample - loss: 0.2708 - acc: 0.9150 - val_loss: 0.8889 - val_acc: 0.7876\n",
      "Epoch 84/100\n",
      "362290/362290 [==============================] - 56s 153us/sample - loss: 0.2618 - acc: 0.9183 - val_loss: 0.8897 - val_acc: 0.7843\n",
      "Epoch 85/100\n",
      "362290/362290 [==============================] - 55s 153us/sample - loss: 0.2554 - acc: 0.9203 - val_loss: 0.9011 - val_acc: 0.7790\n",
      "Epoch 86/100\n",
      "362290/362290 [==============================] - 55s 153us/sample - loss: 0.2610 - acc: 0.9179 - val_loss: 0.9156 - val_acc: 0.7872\n",
      "Epoch 87/100\n",
      "362290/362290 [==============================] - 56s 154us/sample - loss: 0.2526 - acc: 0.9211 - val_loss: 0.9339 - val_acc: 0.7747\n",
      "Epoch 88/100\n",
      "362290/362290 [==============================] - 56s 153us/sample - loss: 0.2522 - acc: 0.9211 - val_loss: 0.9416 - val_acc: 0.7682\n",
      "Epoch 89/100\n",
      "362290/362290 [==============================] - 55s 153us/sample - loss: 0.2583 - acc: 0.9181 - val_loss: 0.9299 - val_acc: 0.7703\n",
      "Epoch 90/100\n",
      "362290/362290 [==============================] - 56s 153us/sample - loss: 0.2584 - acc: 0.9182 - val_loss: 0.9200 - val_acc: 0.7827\n",
      "Epoch 91/100\n",
      "362290/362290 [==============================] - 55s 153us/sample - loss: 0.2450 - acc: 0.9233 - val_loss: 0.9434 - val_acc: 0.7805\n",
      "Epoch 92/100\n",
      "362290/362290 [==============================] - 55s 153us/sample - loss: 0.2383 - acc: 0.9251 - val_loss: 0.9522 - val_acc: 0.7718\n",
      "Epoch 93/100\n",
      "362290/362290 [==============================] - 56s 154us/sample - loss: 0.2328 - acc: 0.9273 - val_loss: 0.9510 - val_acc: 0.7788\n",
      "Epoch 94/100\n",
      "362290/362290 [==============================] - 55s 153us/sample - loss: 0.2272 - acc: 0.9291 - val_loss: 0.9590 - val_acc: 0.7803\n",
      "Epoch 95/100\n",
      "362290/362290 [==============================] - 56s 154us/sample - loss: 0.2308 - acc: 0.9274 - val_loss: 1.0026 - val_acc: 0.7717\n",
      "Epoch 96/100\n",
      "362290/362290 [==============================] - 55s 153us/sample - loss: 0.2567 - acc: 0.9174 - val_loss: 0.9733 - val_acc: 0.7672\n",
      "Epoch 97/100\n",
      "362290/362290 [==============================] - 57s 158us/sample - loss: 0.2438 - acc: 0.9224 - val_loss: 0.9240 - val_acc: 0.7879\n",
      "Epoch 98/100\n",
      "362290/362290 [==============================] - 56s 154us/sample - loss: 0.2264 - acc: 0.9290 - val_loss: 0.9392 - val_acc: 0.7830\n",
      "Epoch 99/100\n",
      "362290/362290 [==============================] - 56s 154us/sample - loss: 0.2214 - acc: 0.9308 - val_loss: 0.9499 - val_acc: 0.7829\n",
      "Epoch 100/100\n",
      "362290/362290 [==============================] - 55s 153us/sample - loss: 0.2153 - acc: 0.9326 - val_loss: 0.9990 - val_acc: 0.7710\n"
     ]
    }
   ],
   "source": [
    "history = model.fit(X_train_res, y_train,\n",
    "                    epochs=epochs,\n",
    "                    batch_size=batch_size,\n",
    "                    validation_data=(X_test_res,y_test))"
   ]
  },
  {
   "cell_type": "code",
   "execution_count": 116,
   "metadata": {},
   "outputs": [
    {
     "data": {
      "image/png": "[encoded data removed]",
      "text/plain": [
       "<Figure size 432x288 with 1 Axes>"
      ]
     },
     "metadata": {
      "needs_background": "light"
     },
     "output_type": "display_data"
    }
   ],
   "source": [
    "#Plot learning curve\n",
    "\n",
    "import seaborn as sns\n",
    "import matplotlib.pyplot as plt\n",
    "\n",
    "sns.set_context(\"talk\")\n",
    "\n",
    "plt.plot(history.history['loss'], label=\"Training\")\n",
    "plt.plot(history.history['val_loss'], label=\"Validation\")\n",
    "plt.xlabel(\"Epoch\")\n",
    "plt.ylabel(\"Loss\")\n",
    "plt.legend()\n",
    "plt.show()"
   ]
  },
  {
   "cell_type": "markdown",
   "metadata": {},
   "source": [
    "## Conv2D"
   ]
  },
  {
   "cell_type": "markdown",
   "metadata": {},
   "source": [
    "Use the resized image features (pickled as numpy arrays) and transpose such that tensor is 4D with shape `(batch, rows, cols, channels)` where `batch = 2494` training samples, `rows = 32`, `cols = 32` and `channels = 285` - comprising all spectral band images at each time frame, as well as all vegetative index images and time difference images. Select only the first 110 channels to improve training speed, this may be modified in the future."
   ]
  },
  {
   "cell_type": "code",
   "execution_count": 26,
   "metadata": {},
   "outputs": [],
   "source": [
    "fit_B = resized_images_train.transpose(0, 2, 3, 1)"
   ]
  },
  {
   "cell_type": "code",
   "execution_count": 27,
   "metadata": {},
   "outputs": [
    {
     "data": {
      "text/plain": [
       "(2494, 32, 32, 285)"
      ]
     },
     "execution_count": 27,
     "metadata": {},
     "output_type": "execute_result"
    }
   ],
   "source": [
    "fit_B.shape"
   ]
  },
  {
   "cell_type": "code",
   "execution_count": 28,
   "metadata": {},
   "outputs": [],
   "source": [
    "fit_B = fit_B[:,:,:,:110]"
   ]
  },
  {
   "cell_type": "code",
   "execution_count": 29,
   "metadata": {},
   "outputs": [],
   "source": [
    "#Split 'fit' data into train and validation sets\n",
    "\n",
    "X_train = fit_B[train_data['Field_Id'].isin(train_fields)]\n",
    "X_test = fit_B[train_data['Field_Id'].isin(test_fields)]\n",
    "\n",
    "y_train = train_data['Crop_Id_Ne'][train_data['Field_Id'].isin(train_fields)]\n",
    "y_test = train_data['Crop_Id_Ne'][train_data['Field_Id'].isin(test_fields)]\n",
    "\n",
    "y_train = pd.get_dummies(y_train).values\n",
    "y_test = pd.get_dummies(y_test).values"
   ]
  },
  {
   "cell_type": "code",
   "execution_count": 78,
   "metadata": {},
   "outputs": [
    {
     "data": {
      "text/plain": [
       "((1870, 32, 32, 110), (624, 32, 32, 110), (1870, 9), (624, 9))"
      ]
     },
     "execution_count": 78,
     "metadata": {},
     "output_type": "execute_result"
    }
   ],
   "source": [
    "X_train.shape, X_test.shape, y_train.shape, y_test.shape"
   ]
  },
  {
   "cell_type": "code",
   "execution_count": 94,
   "metadata": {},
   "outputs": [],
   "source": [
    "img_size = (32,32,110)\n",
    "learning_rate = 0.001\n",
    "epochs = 50\n",
    "batch_size = 500"
   ]
  },
  {
   "cell_type": "code",
   "execution_count": 100,
   "metadata": {},
   "outputs": [],
   "source": [
    "model = keras.models.Sequential()\n",
    "\n",
    "model.add(keras.layers.Conv2D(32, kernel_size=(3, 3),\n",
    "                 activation='relu',\n",
    "                 input_shape=img_size))\n",
    "\n",
    "model.add(keras.layers.MaxPooling2D(pool_size=(2, 2)))\n",
    "\n",
    "model.add(keras.layers.Conv2D(64, (3, 3), activation='relu'))\n",
    "\n",
    "model.add(keras.layers.MaxPooling2D(pool_size=(2, 2)))\n",
    "\n",
    "#model.add(keras.layers.Dropout(0.25))\n",
    "\n",
    "model.add(keras.layers.Flatten())\n",
    "\n",
    "model.add(keras.layers.Dense(1000, activation='relu'))\n",
    "\n",
    "model.add(keras.layers.Dense(512, activation='relu'))\n",
    "\n",
    "model.add(keras.layers.Dense(128, activation='relu'))\n",
    "\n",
    "#model.add(keras.layers.Dropout(0.5))\n",
    "\n",
    "model.add(keras.layers.Dense(9, activation='softmax'))"
   ]
  },
  {
   "cell_type": "code",
   "execution_count": 101,
   "metadata": {},
   "outputs": [],
   "source": [
    "model.compile(loss='categorical_crossentropy',\n",
    "              optimizer=keras.optimizers.Adam(lr=learning_rate),\n",
    "              metrics=['accuracy'])"
   ]
  },
  {
   "cell_type": "code",
   "execution_count": 102,
   "metadata": {
    "scrolled": true
   },
   "outputs": [
    {
     "name": "stdout",
     "output_type": "stream",
     "text": [
      "Train on 1870 samples, validate on 624 samples\n",
      "Epoch 1/50\n",
      "1870/1870 [==============================] - 13s 7ms/sample - loss: 2.0553 - acc: 0.2781 - val_loss: 1.7966 - val_acc: 0.3654\n",
      "Epoch 2/50\n",
      "1870/1870 [==============================] - 11s 6ms/sample - loss: 1.8224 - acc: 0.3813 - val_loss: 1.7881 - val_acc: 0.3654\n",
      "Epoch 3/50\n",
      "1870/1870 [==============================] - 11s 6ms/sample - loss: 1.7567 - acc: 0.4348 - val_loss: 1.6673 - val_acc: 0.4663\n",
      "Epoch 4/50\n",
      "1870/1870 [==============================] - 11s 6ms/sample - loss: 1.6551 - acc: 0.4893 - val_loss: 1.5746 - val_acc: 0.4904\n",
      "Epoch 5/50\n",
      "1870/1870 [==============================] - 11s 6ms/sample - loss: 1.5688 - acc: 0.5064 - val_loss: 1.5450 - val_acc: 0.4984\n",
      "Epoch 6/50\n",
      "1870/1870 [==============================] - 12s 7ms/sample - loss: 1.5371 - acc: 0.5080 - val_loss: 1.5137 - val_acc: 0.5032\n",
      "Epoch 7/50\n",
      "1870/1870 [==============================] - 14s 7ms/sample - loss: 1.4963 - acc: 0.5203 - val_loss: 1.5032 - val_acc: 0.4792\n",
      "Epoch 8/50\n",
      "1870/1870 [==============================] - 19s 10ms/sample - loss: 1.4949 - acc: 0.5139 - val_loss: 1.4528 - val_acc: 0.5256\n",
      "Epoch 9/50\n",
      "1870/1870 [==============================] - 18s 10ms/sample - loss: 1.4437 - acc: 0.5337 - val_loss: 1.3902 - val_acc: 0.5625\n",
      "Epoch 10/50\n",
      "1870/1870 [==============================] - 12s 6ms/sample - loss: 1.4246 - acc: 0.5487 - val_loss: 1.3950 - val_acc: 0.5353\n",
      "Epoch 11/50\n",
      "1870/1870 [==============================] - 11s 6ms/sample - loss: 1.3799 - acc: 0.5636 - val_loss: 1.3238 - val_acc: 0.5801\n",
      "Epoch 12/50\n",
      "1870/1870 [==============================] - 11s 6ms/sample - loss: 1.3596 - acc: 0.5690 - val_loss: 1.2983 - val_acc: 0.5897\n",
      "Epoch 13/50\n",
      "1870/1870 [==============================] - 11s 6ms/sample - loss: 1.3354 - acc: 0.5759 - val_loss: 1.3058 - val_acc: 0.6106\n",
      "Epoch 14/50\n",
      "1870/1870 [==============================] - 11s 6ms/sample - loss: 1.3189 - acc: 0.5834 - val_loss: 1.2747 - val_acc: 0.6250\n",
      "Epoch 15/50\n",
      "1870/1870 [==============================] - 12s 6ms/sample - loss: 1.2919 - acc: 0.6048 - val_loss: 1.2378 - val_acc: 0.6186\n",
      "Epoch 16/50\n",
      "1870/1870 [==============================] - 13s 7ms/sample - loss: 1.2672 - acc: 0.6032 - val_loss: 1.2993 - val_acc: 0.6042\n",
      "Epoch 17/50\n",
      "1870/1870 [==============================] - 11s 6ms/sample - loss: 1.2432 - acc: 0.6209 - val_loss: 1.2509 - val_acc: 0.6090\n",
      "Epoch 18/50\n",
      "1870/1870 [==============================] - 11s 6ms/sample - loss: 1.2322 - acc: 0.6235 - val_loss: 1.2453 - val_acc: 0.6090\n",
      "Epoch 19/50\n",
      "1870/1870 [==============================] - 11s 6ms/sample - loss: 1.2018 - acc: 0.6182 - val_loss: 1.1555 - val_acc: 0.6490\n",
      "Epoch 20/50\n",
      "1870/1870 [==============================] - 11s 6ms/sample - loss: 1.1494 - acc: 0.6460 - val_loss: 1.1925 - val_acc: 0.6346\n",
      "Epoch 21/50\n",
      "1870/1870 [==============================] - 11s 6ms/sample - loss: 1.1303 - acc: 0.6455 - val_loss: 1.1582 - val_acc: 0.6506\n",
      "Epoch 22/50\n",
      "1870/1870 [==============================] - 11s 6ms/sample - loss: 1.1433 - acc: 0.6492 - val_loss: 1.1473 - val_acc: 0.6490\n",
      "Epoch 23/50\n",
      "1870/1870 [==============================] - 11s 6ms/sample - loss: 1.1221 - acc: 0.6401 - val_loss: 1.1909 - val_acc: 0.6442\n",
      "Epoch 24/50\n",
      "1870/1870 [==============================] - 11s 6ms/sample - loss: 1.1085 - acc: 0.6545 - val_loss: 1.1099 - val_acc: 0.6779\n",
      "Epoch 25/50\n",
      "1870/1870 [==============================] - 11s 6ms/sample - loss: 1.0744 - acc: 0.6684 - val_loss: 1.1290 - val_acc: 0.6571\n",
      "Epoch 26/50\n",
      "1870/1870 [==============================] - 11s 6ms/sample - loss: 1.0783 - acc: 0.6578 - val_loss: 1.1252 - val_acc: 0.6667\n",
      "Epoch 27/50\n",
      "1870/1870 [==============================] - 11s 6ms/sample - loss: 1.0517 - acc: 0.6658 - val_loss: 1.1367 - val_acc: 0.6554\n",
      "Epoch 28/50\n",
      "1870/1870 [==============================] - 11s 6ms/sample - loss: 1.0530 - acc: 0.6684 - val_loss: 1.1657 - val_acc: 0.6474\n",
      "Epoch 29/50\n",
      "1870/1870 [==============================] - 11s 6ms/sample - loss: 1.0701 - acc: 0.6545 - val_loss: 1.0984 - val_acc: 0.6859\n",
      "Epoch 30/50\n",
      "1870/1870 [==============================] - 11s 6ms/sample - loss: 1.0172 - acc: 0.6818 - val_loss: 1.0959 - val_acc: 0.6731\n",
      "Epoch 31/50\n",
      "1870/1870 [==============================] - 11s 6ms/sample - loss: 1.0020 - acc: 0.6914 - val_loss: 1.1125 - val_acc: 0.6667\n",
      "Epoch 32/50\n",
      "1870/1870 [==============================] - 11s 6ms/sample - loss: 1.0011 - acc: 0.6834 - val_loss: 1.0759 - val_acc: 0.6795\n",
      "Epoch 33/50\n",
      "1870/1870 [==============================] - 11s 6ms/sample - loss: 0.9771 - acc: 0.6914 - val_loss: 1.0754 - val_acc: 0.6827\n",
      "Epoch 34/50\n",
      "1870/1870 [==============================] - 11s 6ms/sample - loss: 0.9968 - acc: 0.6877 - val_loss: 1.0941 - val_acc: 0.6779\n",
      "Epoch 35/50\n",
      "1870/1870 [==============================] - 11s 6ms/sample - loss: 0.9628 - acc: 0.6968 - val_loss: 1.0863 - val_acc: 0.6795\n",
      "Epoch 36/50\n",
      "1870/1870 [==============================] - 11s 6ms/sample - loss: 0.9252 - acc: 0.7027 - val_loss: 1.0702 - val_acc: 0.6763\n",
      "Epoch 37/50\n",
      "1870/1870 [==============================] - 12s 6ms/sample - loss: 0.8918 - acc: 0.7235 - val_loss: 1.0754 - val_acc: 0.6843\n",
      "Epoch 38/50\n",
      "1870/1870 [==============================] - 12s 7ms/sample - loss: 0.9042 - acc: 0.7198 - val_loss: 1.0821 - val_acc: 0.6859\n",
      "Epoch 39/50\n",
      "1870/1870 [==============================] - 11s 6ms/sample - loss: 0.8676 - acc: 0.7171 - val_loss: 1.0302 - val_acc: 0.6891\n",
      "Epoch 40/50\n",
      "1870/1870 [==============================] - 11s 6ms/sample - loss: 0.8629 - acc: 0.7230 - val_loss: 1.0536 - val_acc: 0.6875\n",
      "Epoch 41/50\n",
      "1870/1870 [==============================] - 11s 6ms/sample - loss: 0.9543 - acc: 0.6963 - val_loss: 1.0818 - val_acc: 0.6843\n",
      "Epoch 42/50\n",
      "1870/1870 [==============================] - 11s 6ms/sample - loss: 0.9220 - acc: 0.7048 - val_loss: 1.1755 - val_acc: 0.6667\n",
      "Epoch 43/50\n",
      "1870/1870 [==============================] - 12s 6ms/sample - loss: 0.9242 - acc: 0.7043 - val_loss: 1.0831 - val_acc: 0.6859\n",
      "Epoch 44/50\n",
      "1870/1870 [==============================] - 11s 6ms/sample - loss: 0.8671 - acc: 0.7144 - val_loss: 1.0620 - val_acc: 0.7019\n",
      "Epoch 45/50\n",
      "1870/1870 [==============================] - 11s 6ms/sample - loss: 0.8619 - acc: 0.7171 - val_loss: 1.0415 - val_acc: 0.6955\n",
      "Epoch 46/50\n",
      "1870/1870 [==============================] - 11s 6ms/sample - loss: 0.8662 - acc: 0.7150 - val_loss: 1.0349 - val_acc: 0.6987\n",
      "Epoch 47/50\n",
      "1870/1870 [==============================] - 11s 6ms/sample - loss: 0.8051 - acc: 0.7348 - val_loss: 1.1075 - val_acc: 0.6923\n",
      "Epoch 48/50\n",
      "1870/1870 [==============================] - 11s 6ms/sample - loss: 0.7988 - acc: 0.7465 - val_loss: 1.1034 - val_acc: 0.6843\n",
      "Epoch 49/50\n",
      "1870/1870 [==============================] - 11s 6ms/sample - loss: 0.7664 - acc: 0.7561 - val_loss: 1.0494 - val_acc: 0.7131\n",
      "Epoch 50/50\n",
      "1870/1870 [==============================] - 11s 6ms/sample - loss: 0.7328 - acc: 0.7540 - val_loss: 1.0303 - val_acc: 0.7099\n"
     ]
    }
   ],
   "source": [
    "history = model.fit(X_train, y_train,\n",
    "                    epochs=epochs,\n",
    "                    batch_size=batch_size,\n",
    "                    validation_data=(X_test,y_test))"
   ]
  },
  {
   "cell_type": "code",
   "execution_count": 103,
   "metadata": {},
   "outputs": [
    {
     "data": {
      "image/png": "[encoded data removed]",
      "text/plain": [
       "<Figure size 432x288 with 1 Axes>"
      ]
     },
     "metadata": {
      "needs_background": "light"
     },
     "output_type": "display_data"
    }
   ],
   "source": [
    "#Plot learning curve\n",
    "\n",
    "import seaborn as sns\n",
    "import matplotlib.pyplot as plt\n",
    "\n",
    "sns.set_context(\"talk\")\n",
    "\n",
    "plt.plot(history.history['loss'], label=\"Training\")\n",
    "plt.plot(history.history['val_loss'], label=\"Validation\")\n",
    "plt.xlabel(\"Epoch\")\n",
    "plt.ylabel(\"Loss\")\n",
    "plt.legend()\n",
    "plt.show()"
   ]
  },
  {
   "cell_type": "code",
   "execution_count": null,
   "metadata": {},
   "outputs": [],
   "source": []
  },
  {
   "cell_type": "code",
   "execution_count": null,
   "metadata": {},
   "outputs": [],
   "source": []
  },
  {
   "cell_type": "code",
   "execution_count": null,
   "metadata": {},
   "outputs": [],
   "source": []
  }
 ],
 "metadata": {
  "kernelspec": {
   "display_name": "Python 3",
   "language": "python",
   "name": "python3"
  },
  "language_info": {
   "codemirror_mode": {
    "name": "ipython",
    "version": 3
   },
   "file_extension": ".py",
   "mimetype": "text/x-python",
   "name": "python",
   "nbconvert_exporter": "python",
   "pygments_lexer": "ipython3",
   "version": "3.7.3"
  }
 },
 "nbformat": 4,
 "nbformat_minor": 2
}
